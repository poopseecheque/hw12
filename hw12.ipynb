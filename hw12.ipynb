{
 "cells": [
  {
   "cell_type": "code",
   "execution_count": 1,
   "id": "0ff8b523-2b99-4e81-bb82-9a73cc17f233",
   "metadata": {
    "tags": []
   },
   "outputs": [],
   "source": [
    "import requests as rq\n",
    "import os"
   ]
  },
  {
   "cell_type": "code",
   "execution_count": 22,
   "id": "9f1a56f5-3b77-48a5-a3ab-04dadf65eda6",
   "metadata": {
    "tags": []
   },
   "outputs": [
    {
     "name": "stdout",
     "output_type": "stream",
     "text": [
      "Number of .png images: 29\n",
      "/templates/gsom/img/favicon.png\n"
     ]
    }
   ],
   "source": [
    "url = \"https://gsom.spbu.ru/en/\"\n",
    "r = rq.get(url)\n",
    "\n",
    "if r.status_code == 200:\n",
    "    r_content = r.text #converting to string\n",
    "    png_n = r_content.count('.png')\n",
    "    print(f\"Number of .png images: {png_n}\")\n",
    "\n",
    "    png_1_ind = r_content.find('.png') #index of first png\n",
    "\n",
    "    if png_1_ind != -1: #this means we found the string\n",
    "        link_start_ind = png_1_ind\n",
    "        #now we need to find the start of the link by going back\n",
    "        while link_start_ind > 0 and r_content[link_start_ind] not in ['\"', \"'\"]:\n",
    "            link_start_ind -= 1 #every iteration substacts one index point\n",
    "        \n",
    "        png_address = r_content[link_start_ind + 1:png_1_ind +4] # +1 to exclude \" +4 to add all .png letters\n",
    "        print(png_address)\n",
    "        full_png_address = \"https://gsom.spbu.ru\"+png_address\n",
    "        image_request = rq.get(full_png_address)\n",
    "        file = open(f'{os.getcwd()}/image.png', 'wb')\n",
    "        file.write(image_request.content)\n",
    "        file.close()\n",
    "    else:\n",
    "        ('No .png found')\n",
    "else:\n",
    "    print('Failed to fetch data')\n",
    "        "
   ]
  },
  {
   "cell_type": "code",
   "execution_count": 24,
   "id": "66d37707-835a-4750-96f8-93191c8022d0",
   "metadata": {
    "tags": []
   },
   "outputs": [],
   "source": [
    "import numpy as np\n",
    "import pandas as pd"
   ]
  },
  {
   "cell_type": "code",
   "execution_count": 34,
   "id": "46eb05d2-6888-48df-86eb-69840febcdd7",
   "metadata": {
    "tags": []
   },
   "outputs": [
    {
     "name": "stdout",
     "output_type": "stream",
     "text": [
      "Company Finances:\n",
      "  Month  Income_without_tax  Expenses\n",
      "0   Jan              8400.0      8000\n",
      "1   Feb             10500.0      9000\n",
      "2   Mar              9100.0      9500\n",
      "3   Apr             11200.0     11000\n",
      "4   May             11900.0     12000\n",
      "5   Jun             10850.0     11500\n",
      "6   Jul              9800.0     10000\n",
      "7   Aug             11550.0     10800\n",
      "8   Sep             11060.0     10200\n",
      "9   Oct             10150.0      9500\n",
      "\n",
      "1st quarter\n",
      "  Month  Income_without_tax  Expenses\n",
      "0   Jan              8400.0      8000\n",
      "1   Feb             10500.0      9000\n",
      "2   Mar              9100.0      9500\n"
     ]
    }
   ],
   "source": [
    "income = np.array([12000, 15000, 13000, 16000, 17000, 15500, 14000, 16500, 15800, 14500])\n",
    "income_without_tax = income * 0.7\n",
    "\n",
    "months = ['Jan', 'Feb', 'Mar', 'Apr', 'May', 'Jun', 'Jul', 'Aug', 'Sep', 'Oct']\n",
    "expenses = np.array([8000, 9000, 9500, 11000, 12000, 11500, 10000, 10800, 10200, 9500])\n",
    "data = {\n",
    "    'Month': months,\n",
    "    'Income_without_tax': income_without_tax,\n",
    "    'Expenses': expenses\n",
    "}\n",
    "df = pd.DataFrame(data)\n",
    "print(\"Company Finances:\")\n",
    "print(df)\n",
    "\n",
    "q1 = df.iloc[0:3,]\n",
    "print('\\n1st quarter')\n",
    "print(q1)"
   ]
  },
  {
   "cell_type": "code",
   "execution_count": 42,
   "id": "88d9ac0b-2075-4f31-9feb-a0cca650209a",
   "metadata": {
    "tags": []
   },
   "outputs": [
    {
     "name": "stdout",
     "output_type": "stream",
     "text": [
      "Sorted short_list1: [1, 2, 4, 5, 8]\n",
      "Sorted short_list2: [-2, -1, 0, 3, 4]\n",
      "Sorted short_list3: [1, 1, 2, 2, 3]\n",
      "Sorted long_list1: [1, 2, 2, 3, 5, 5, 5, 6, 7, 9]\n",
      "Sorted long_list2: [91, 92, 93, 94, 95, 96, 97, 98, 99, 100]\n",
      "Sorted long_list3: [1, 2, 3, 4, 5, 6, 7, 8, 9, 10]\n"
     ]
    }
   ],
   "source": [
    "def my_sort(mylist):\n",
    "    n = len(mylist)\n",
    "    for i in range(n - 1): #n-1 because idex starts with 0 in the list, we go through each value\n",
    "        for j in range(n - 1 - i):  # we compare  elements next to each other substacting ith iterations, to not repeat\n",
    "            if mylist[j] > mylist[j + 1]:\n",
    "                mylist[j], mylist[j + 1] = mylist[j + 1], mylist[j] #swap\n",
    "                \n",
    "    return mylist\n",
    "\n",
    "\n",
    "short_list1 = [5, 1, 4, 2, 8]\n",
    "short_list2 = [3, -1, 4, 0, -2]\n",
    "short_list3 = [2, 3, 1, 2, 1]\n",
    "long_list1 = [5, 2, 9, 1, 5, 6, 2, 3, 5, 7]\n",
    "long_list2 = [100, 99, 98, 97, 96, 95, 94, 93, 92, 91]\n",
    "long_list3 = [1, 2, 3, 4, 5, 6, 7, 8, 9, 10]\n",
    "\n",
    "print(\"Sorted short_list1:\", my_sort(short_list1))\n",
    "print(\"Sorted short_list2:\", my_sort(short_list2))\n",
    "print(\"Sorted short_list3:\", my_sort(short_list3))\n",
    "\n",
    "print(\"Sorted long_list1:\", my_sort(long_list1))\n",
    "print(\"Sorted long_list2:\", my_sort(long_list2))\n",
    "print(\"Sorted long_list3:\", my_sort(long_list3))\n",
    "\n"
   ]
  },
  {
   "cell_type": "code",
   "execution_count": 35,
   "id": "d1c4e23c-c8b8-458d-8129-28346a295ee2",
   "metadata": {
    "tags": []
   },
   "outputs": [
    {
     "data": {
      "text/plain": [
       "4"
      ]
     },
     "execution_count": 35,
     "metadata": {},
     "output_type": "execute_result"
    }
   ],
   "source": [
    "#number of comparisons: we have to go through n elements to compare each other\n",
    "#we start with the 1st element with index=0 (i=0) and compare it to the second\n",
    "#indexes of the list = n-1 (length of the list -1 to accout for starting with 0)\n",
    "#every time we do each comparison, we subtract the i (index of iteration/number in the list) from n-1\n",
    "\n",
    "#5 elements:\n",
    "#1st loop: 0-1, 1-2, 2-3, 3-4 - 4 comparisons (n-1)\n",
    "#2nd: 0-1,1-2,2-3 - 3 comparisons (n-2)\n",
    "#3re:0-1,1-2 - 2 comp, (n-3)\n",
    "#4th: 0-1 - 1 comp (1)\n",
    "#10 comp in total\n",
    "\n",
    "#1st iteration: n-1-0 = n-1 (i=0)\n",
    "#2nd iteration: n-1-1 = n-2 (i=2)\n",
    "#3rd iteration: n-1-2 = n-3\n",
    "\n",
    "#we can apply  sum formula of first k integers:\n",
    "#(k(k+1))/2, where k = n-1, k+1=n => ((n-1)n)/2\n",
    "\n",
    "#for list of 10 values: n of iterations = 9*10/2 = 45"
   ]
  }
 ],
 "metadata": {
  "kernelspec": {
   "display_name": "Python 3 (ipykernel)",
   "language": "python",
   "name": "python3"
  },
  "language_info": {
   "codemirror_mode": {
    "name": "ipython",
    "version": 3
   },
   "file_extension": ".py",
   "mimetype": "text/x-python",
   "name": "python",
   "nbconvert_exporter": "python",
   "pygments_lexer": "ipython3",
   "version": "3.10.8"
  }
 },
 "nbformat": 4,
 "nbformat_minor": 5
}
